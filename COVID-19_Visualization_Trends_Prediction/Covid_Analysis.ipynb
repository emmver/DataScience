{
 "cells": [
  {
   "cell_type": "code",
   "execution_count": 5,
   "metadata": {},
   "outputs": [
    {
     "name": "stderr",
     "output_type": "stream",
     "text": [
      "100% |########################################################################|\n"
     ]
    },
    {
     "data": {
      "text/plain": [
       "('D:/Learning_data/COVID/owid-covid-data.csv',\n",
       " <http.client.HTTPMessage at 0x249318455b0>)"
      ]
     },
     "execution_count": 5,
     "metadata": {},
     "output_type": "execute_result"
    }
   ],
   "source": [
    "#%matplotlib inline\n",
    "import numpy as np # Library for multi-dimensional arrays and math operations on them \n",
    "import pandas as pd # Library for data manipulation and analysis\n",
    "import os # Interfacing python with the operating system\n",
    "import matplotlib.pyplot as plt #Plotting library\n",
    "import seaborn as sns #Plotting library with some statistical tools \n",
    "import nltk # Natural Language Processing toolkit, similar as textblob below, both have useful functions\n",
    "from textblob import TextBlob\n",
    "import string\n",
    "import time\n",
    "import re # Basically a string processing and manipulation library\n",
    "from datetime import datetime ## Manipulating datetime inputs\n",
    "from matplotlib.ticker import FuncFormatter\n",
    "import sys\n",
    "import urllib\n",
    "import progressbar\n",
    "import ipywidgets as widgets\n",
    "\n",
    "\n",
    "### My plotting style is inputted here #####\n",
    "import matplotlib as mpl\n",
    "mpl.rcParams['figure.dpi'] = 100\n",
    "plt.rcParams[\"font.family\"] = \"Ubuntu\"\n",
    "plt.style.use('C:/Users/Toumba/Documents/plotstyle.mplstyle')\n",
    "plt.rcParams['axes.linewidth'] = 4\n",
    "plt.rcParams['xtick.major.size'] = 8 \n",
    "plt.rcParams['ytick.major.size'] = 8 \n",
    "plt.rcParams['xtick.labelsize']=20\n",
    "plt.rcParams['ytick.labelsize']=20\n",
    "#plt.rcParams['xtick.minor.visible']=True\n",
    "#plt.rcParams['ytick.minor.visible']=True\n",
    "#plt.rcParams['xtick.minor.size'] = 5 \n",
    "#plt.rcParams['ytick.minor.size'] = 5\n",
    "#plt.rcParams['xtick.minor.width'] = 1.5\n",
    "#plt.rcParams['ytick.minor.width'] = 1.5\n",
    "plt.rcParams['xtick.major.width'] = 2\n",
    "plt.rcParams['ytick.major.width'] = 2\n",
    "plt.rcParams['xtick.major.pad']='8'\n",
    "plt.rcParams['ytick.major.pad']='8'\n",
    "#############################################\n",
    "\n",
    "biden_color='#2986cc'\n",
    "trump_color='#cc0000'\n",
    "pbar = None\n",
    "\n",
    "\n",
    "def show_progress(block_num, block_size, total_size):\n",
    "    global pbar\n",
    "    if pbar is None:\n",
    "        pbar = progressbar.ProgressBar(maxval=total_size)\n",
    "        pbar.start()\n",
    "\n",
    "    downloaded = block_num * block_size\n",
    "    if downloaded < total_size:\n",
    "        pbar.update(downloaded)\n",
    "    else:\n",
    "        pbar.finish()\n",
    "        pbar = None\n",
    "store_path='D:/Learning_data/COVID/owid-covid-data.csv'\n",
    "CSV_URL = 'https://raw.githubusercontent.com/owid/covid-19-data/master/public/data/owid-covid-data.csv'\n",
    "urllib.request.urlretrieve(CSV_URL,store_path,show_progress)\n"
   ]
  },
  {
   "cell_type": "code",
   "execution_count": 6,
   "metadata": {},
   "outputs": [],
   "source": [
    "df=pd.read_csv(store_path,lineterminator='\\n')\n",
    "countries=df.location.value_counts()\n",
    "countries=countries.sort_index()"
   ]
  },
  {
   "cell_type": "code",
   "execution_count": 7,
   "metadata": {},
   "outputs": [
    {
     "data": {
      "text/plain": [
       "Index(['iso_code', 'continent', 'location', 'date', 'total_cases', 'new_cases',\n",
       "       'new_cases_smoothed', 'total_deaths', 'new_deaths',\n",
       "       'new_deaths_smoothed', 'total_cases_per_million',\n",
       "       'new_cases_per_million', 'new_cases_smoothed_per_million',\n",
       "       'total_deaths_per_million', 'new_deaths_per_million',\n",
       "       'new_deaths_smoothed_per_million', 'reproduction_rate', 'icu_patients',\n",
       "       'icu_patients_per_million', 'hosp_patients',\n",
       "       'hosp_patients_per_million', 'weekly_icu_admissions',\n",
       "       'weekly_icu_admissions_per_million', 'weekly_hosp_admissions',\n",
       "       'weekly_hosp_admissions_per_million', 'new_tests', 'total_tests',\n",
       "       'total_tests_per_thousand', 'new_tests_per_thousand',\n",
       "       'new_tests_smoothed', 'new_tests_smoothed_per_thousand',\n",
       "       'positive_rate', 'tests_per_case', 'tests_units', 'total_vaccinations',\n",
       "       'people_vaccinated', 'people_fully_vaccinated', 'total_boosters',\n",
       "       'new_vaccinations', 'new_vaccinations_smoothed',\n",
       "       'total_vaccinations_per_hundred', 'people_vaccinated_per_hundred',\n",
       "       'people_fully_vaccinated_per_hundred', 'total_boosters_per_hundred',\n",
       "       'new_vaccinations_smoothed_per_million',\n",
       "       'new_people_vaccinated_smoothed',\n",
       "       'new_people_vaccinated_smoothed_per_hundred', 'stringency_index',\n",
       "       'population', 'population_density', 'median_age', 'aged_65_older',\n",
       "       'aged_70_older', 'gdp_per_capita', 'extreme_poverty',\n",
       "       'cardiovasc_death_rate', 'diabetes_prevalence', 'female_smokers',\n",
       "       'male_smokers', 'handwashing_facilities', 'hospital_beds_per_thousand',\n",
       "       'life_expectancy', 'human_development_index',\n",
       "       'excess_mortality_cumulative_absolute', 'excess_mortality_cumulative',\n",
       "       'excess_mortality', 'excess_mortality_cumulative_per_million'],\n",
       "      dtype='object')"
      ]
     },
     "execution_count": 7,
     "metadata": {},
     "output_type": "execute_result"
    }
   ],
   "source": [
    "df.keys()"
   ]
  },
  {
   "cell_type": "code",
   "execution_count": 8,
   "metadata": {},
   "outputs": [],
   "source": [
    "def comp_plot_country(df,country,start,end,dates_key):\n",
    "    plt.clf()\n",
    "    global country_sav\n",
    "    country_sav=country\n",
    "    df_country=df[df.location==country]\n",
    "    global fig\n",
    "    fig,ax=plt.subplots(figsize=(12,9))\n",
    "    if dates_key=='days':\n",
    "        days=df_country.index-df_country.index[0]\n",
    "        plt.xlim(days[start],days[end]+0.1*days[end])\n",
    "        plt.title('Country %s: maximum  cases per day %d'%(df_country.location.values[0],df_country.new_cases_smoothed.max()))\n",
    "\n",
    "    elif dates_key=='dates':\n",
    "        df_country.date = pd.to_datetime(df_country.date)\n",
    "        df_country.set_index('date', inplace=True)\n",
    "        days=df_country.index\n",
    "\n",
    "    plt.plot(days[start:end],df_country.new_cases_smoothed[start:end]/df_country.new_cases_smoothed.max(),color=biden_color,label='New Cases')\n",
    "    plt.plot(days[start:end],df_country.hosp_patients[start:end]/df_country.hosp_patients.max(),color=trump_color,label='Hospitalizations')\n",
    "    plt.plot(days[start:end],df_country.icu_patients[start:end]/df_country.icu_patients.max(),color='#948787',label='In ICU')\n",
    "    plt.plot(days[start:end],df_country.new_deaths_smoothed[start:end]/df_country.new_deaths_smoothed.max(),color='#448787',label='New Deaths')\n",
    "    plt.grid()\n",
    "    plt.legend(frameon=True,facecolor='white',framealpha=1,edgecolor='black',loc='best',fontsize=12)\n",
    "    #print(df_country.new_cases_smoothed.max())\n",
    "    #plt.ticklabel_format(axis=\"y\", style=\"sci\", scilimits=(0,0),useMathText=True)\n",
    "    ax.xaxis.set_major_locator(plt.MaxNLocator(17))\n",
    "    plt.ylabel(r'$\\frac{Value}{Max Value}$')\n",
    "    plt.xlabel('Day since start')\n",
    "    plt.xticks(rotation=90)\n",
    "    #fig.canvas.layout.width = '1200px'\n",
    "    #fig.canvas.layout.height = '1200px'\n",
    "    plt.tight_layout()\n",
    "    #plt.clf()\n",
    "    plt.show()\n",
    "def on_button_clicked(b):\n",
    "    global fig\n",
    "    global country_sav\n",
    "    fig.savefig(\"./normalized_cases_%s.png\"%country_sav)"
   ]
  },
  {
   "cell_type": "code",
   "execution_count": 9,
   "metadata": {},
   "outputs": [
    {
     "data": {
      "application/vnd.jupyter.widget-view+json": {
       "model_id": "8cf13974341d42208de0542e779c0327",
       "version_major": 2,
       "version_minor": 0
      },
      "text/plain": [
       "Button(description='Savefig', style=ButtonStyle())"
      ]
     },
     "metadata": {},
     "output_type": "display_data"
    },
    {
     "data": {
      "application/vnd.jupyter.widget-view+json": {
       "model_id": "914eed1918f046faa39cc8ce38fdf453",
       "version_major": 2,
       "version_minor": 0
      },
      "text/plain": [
       "interactive(children=(Dropdown(description='country', options=('Afghanistan', 'Africa', 'Albania', 'Algeria', …"
      ]
     },
     "metadata": {},
     "output_type": "display_data"
    }
   ],
   "source": [
    "button = widgets.Button(description=\"Savefig\")\n",
    "display(button)\n",
    "\n",
    "\n",
    "dates_dict=['days','dates']\n",
    "button.on_click(on_button_clicked)\n",
    "widgets.interact(comp_plot_country,df=widgets.fixed(df),country=countries.index,start=widgets.IntSlider(min=0, max=700, step=1, value=0),end=widgets.IntSlider(min=-1, max=700, step=1, value=400),dates_key=dates_dict);\n"
   ]
  },
  {
   "cell_type": "code",
   "execution_count": 16,
   "metadata": {},
   "outputs": [],
   "source": [
    "def comp_plot_country_specific(df,country,plot_key,start,end,dates_key):\n",
    "    plt.clf()\n",
    "    global country_sav\n",
    "    country_sav=country\n",
    "    global key\n",
    "    key=plot_key\n",
    "    df_country=df[df.location==country]\n",
    "    toplot=df_country[plot_key]\n",
    "    global fig\n",
    "    fig,ax=plt.subplots(figsize=(12,9))\n",
    "    if dates_key=='days':\n",
    "        days=df_country.index-df_country.index[0]\n",
    "        plt.xlim(days[start],days[end]+0.1*days[end])\n",
    "        plt.title('Country %s: maximum  cases per day %d'%(df_country.location.values[0],df_country.new_cases_smoothed.max()))\n",
    "\n",
    "    elif dates_key=='dates':\n",
    "        df_country.date = pd.to_datetime(df_country.date)\n",
    "        df_country.set_index('date', inplace=True)\n",
    "        days=df_country.index\n",
    "\n",
    "    plt.plot(days[start:end],toplot[start:end],color=biden_color,label='New Cases')\n",
    "    #plt.plot(days[start:end],df_country.hosp_patients[start:end]/df_country.hosp_patients.max(),color=trump_color,label='Hospitalizations')\n",
    "    #plt.plot(days[start:end],df_country.icu_patients[start:end]/df_country.icu_patients.max(),color='#948787',label='In ICU')\n",
    "    #plt.plot(days[start:end],df_country.new_deaths_smoothed[start:end]/df_country.new_deaths_smoothed.max(),color='#448787',label='New Deaths')\n",
    "    plt.grid()\n",
    "    plt.legend(frameon=True,facecolor='white',framealpha=1,edgecolor='black',loc='best',fontsize=12)\n",
    "    #print(df_country.new_cases_smoothed.max())\n",
    "    #plt.ticklabel_format(axis=\"y\", style=\"sci\", scilimits=(0,0),useMathText=True)\n",
    "    ax.xaxis.set_major_locator(plt.MaxNLocator(17))\n",
    "    plt.ylabel(r'%s'%plot_key)\n",
    "    plt.xlabel('Day since start')\n",
    "    plt.xticks(rotation=90)\n",
    "    #fig.canvas.layout.width = '1200px'\n",
    "    #fig.canvas.layout.height = '1200px'\n",
    "    plt.tight_layout()\n",
    "    #plt.clf()\n",
    "    plt.show()\n",
    "def on_button_clicked(b):\n",
    "    global fig\n",
    "    global country_sav\n",
    "    fig.savefig(\"./%s_%s.png\"%(key,country_sav))"
   ]
  },
  {
   "cell_type": "code",
   "execution_count": 17,
   "metadata": {},
   "outputs": [
    {
     "data": {
      "application/vnd.jupyter.widget-view+json": {
       "model_id": "3bd482e946d146b8b27f84945b38ab4b",
       "version_major": 2,
       "version_minor": 0
      },
      "text/plain": [
       "Button(description='Savefig', style=ButtonStyle())"
      ]
     },
     "metadata": {},
     "output_type": "display_data"
    },
    {
     "data": {
      "application/vnd.jupyter.widget-view+json": {
       "model_id": "dcd8f663ad29412da6a239dfe6410014",
       "version_major": 2,
       "version_minor": 0
      },
      "text/plain": [
       "interactive(children=(Dropdown(description='country', options=('Afghanistan', 'Africa', 'Albania', 'Algeria', …"
      ]
     },
     "metadata": {},
     "output_type": "display_data"
    }
   ],
   "source": [
    "button = widgets.Button(description=\"Savefig\")\n",
    "display(button)\n",
    "dates_dict=['days','dates']\n",
    "button.on_click(on_button_clicked)\n",
    "widgets.interact(comp_plot_country_specific,df=widgets.fixed(df),country=countries.index,plot_key=df.keys(),start=widgets.IntSlider(min=-700, max=700, step=1, value=0),end=widgets.IntSlider(min=-1, max=700, step=1, value=400),dates_key=dates_dict);\n"
   ]
  },
  {
   "cell_type": "code",
   "execution_count": 43,
   "metadata": {},
   "outputs": [
    {
     "data": {
      "text/plain": [
       "[<matplotlib.lines.Line2D at 0x195b245bd30>]"
      ]
     },
     "execution_count": 43,
     "metadata": {},
     "output_type": "execute_result"
    },
    {
     "data": {
      "image/png": "[encoded data removed]",
      "text/plain": [
       "<Figure size 600x400 with 1 Axes>"
      ]
     },
     "metadata": {
      "needs_background": "light"
     },
     "output_type": "display_data"
    }
   ],
   "source": [
    "toplot=df['new_cases'][df.location=='United Kingdom']\n",
    "days=df[df.location=='United Kingdom'].index-df[df.location=='United Kingdom'].index[0]\n",
    "plt.plot(days,toplot)"
   ]
  },
  {
   "cell_type": "code",
   "execution_count": null,
   "metadata": {},
   "outputs": [],
   "source": []
  }
 ],
 "metadata": {
  "kernelspec": {
   "display_name": "Python 3",
   "language": "python",
   "name": "python3"
  },
  "language_info": {
   "codemirror_mode": {
    "name": "ipython",
    "version": 3
   },
   "file_extension": ".py",
   "mimetype": "text/x-python",
   "name": "python",
   "nbconvert_exporter": "python",
   "pygments_lexer": "ipython3",
   "version": "3.8.6"
  }
 },
 "nbformat": 4,
 "nbformat_minor": 4
}
