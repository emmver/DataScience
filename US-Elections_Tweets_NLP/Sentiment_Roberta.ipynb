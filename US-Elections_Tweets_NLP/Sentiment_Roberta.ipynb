{
 "cells": [
  {
   "cell_type": "markdown",
   "id": "9f197548",
   "metadata": {},
   "source": [
    "Sentiment analysis \n",
    "\n",
    "Trying to use the roberta sentiment prediction: \n",
    "\n",
    "https://colab.research.google.com/github/chrsiebert/sentiment-roberta-large-english/blob/main/sentiment_roberta_prediction_example.ipynb\n",
    "\n",
    "paper: \n"
   ]
  },
  {
   "cell_type": "code",
   "execution_count": 1,
   "id": "f133f3eb",
   "metadata": {},
   "outputs": [],
   "source": [
    "# Import required packages\n",
    "import torch\n",
    "import pandas as pd\n",
    "import numpy as np\n",
    "from transformers import AutoTokenizer, AutoModelForSequenceClassification, Trainer\n",
    "\n",
    "# Create class for data preparation\n",
    "class SimpleDataset:\n",
    "    def __init__(self, tokenized_texts):\n",
    "        self.tokenized_texts = tokenized_texts\n",
    "    \n",
    "    def __len__(self):\n",
    "        return len(self.tokenized_texts[\"input_ids\"])\n",
    "    \n",
    "    def __getitem__(self, idx):\n",
    "        return {k: v[idx] for k, v in self.tokenized_texts.items()}"
   ]
  },
  {
   "cell_type": "code",
   "execution_count": 2,
   "id": "b8a03f33",
   "metadata": {},
   "outputs": [],
   "source": [
    "# Load tokenizer and model, create trainer\n",
    "model_name = \"siebert/sentiment-roberta-large-english\"\n",
    "tokenizer = AutoTokenizer.from_pretrained(model_name)\n",
    "model = AutoModelForSequenceClassification.from_pretrained(model_name)\n",
    "trainer = Trainer(model=model)\n"
   ]
  },
  {
   "cell_type": "code",
   "execution_count": 10,
   "id": "b521c601",
   "metadata": {},
   "outputs": [],
   "source": [
    "#load data\n",
    "\n",
    "trump= pd.read_csv('trump_tweets_languages.csv',lineterminator='\\n')\n",
    "\n",
    "## I used my old csv as I didn't want to compute the language detection again, it takes so long with my laptop."
   ]
  },
  {
   "cell_type": "code",
   "execution_count": 11,
   "id": "46fa33aa",
   "metadata": {},
   "outputs": [
    {
     "name": "stdout",
     "output_type": "stream",
     "text": [
      "(705893, 23)\n"
     ]
    }
   ],
   "source": [
    "## filter data frame for english tweets only \n",
    "is_english = trump['tweet_lang\\r']== 'en\\r'\n",
    "\n",
    "english_tweets= trump[is_english]\n",
    "print(english_tweets.shape)"
   ]
  },
  {
   "cell_type": "code",
   "execution_count": 5,
   "id": "3af96224",
   "metadata": {},
   "outputs": [],
   "source": [
    "pred_texts = list(english_tweets['cleantweet'])\n",
    "## cut the samples down to 100 in order to try \n",
    "pred_texts = pred_texts[:100]"
   ]
  },
  {
   "cell_type": "code",
   "execution_count": 6,
   "id": "c51e9841",
   "metadata": {},
   "outputs": [],
   "source": [
    "# Tokenize texts and create prediction data set\n",
    "tokenized_texts = tokenizer(pred_texts,truncation=True,padding=True)\n",
    "pred_dataset = SimpleDataset(tokenized_texts)"
   ]
  },
  {
   "cell_type": "code",
   "execution_count": 7,
   "id": "f4e8ac5f",
   "metadata": {},
   "outputs": [
    {
     "name": "stderr",
     "output_type": "stream",
     "text": [
      "***** Running Prediction *****\n",
      "  Num examples = 100\n",
      "  Batch size = 8\n"
     ]
    },
    {
     "data": {
      "text/html": [
       "\n",
       "    <div>\n",
       "      \n",
       "      <progress value='13' max='13' style='width:300px; height:20px; vertical-align: middle;'></progress>\n",
       "      [13/13 01:40]\n",
       "    </div>\n",
       "    "
      ],
      "text/plain": [
       "<IPython.core.display.HTML object>"
      ]
     },
     "metadata": {},
     "output_type": "display_data"
    }
   ],
   "source": [
    "# Run predictions\n",
    "predictions = trainer.predict(pred_dataset)"
   ]
  },
  {
   "cell_type": "code",
   "execution_count": 8,
   "id": "7f1a2dc0",
   "metadata": {},
   "outputs": [],
   "source": [
    "# Transform predictions to labels\n",
    "preds = predictions.predictions.argmax(-1)\n",
    "labels = pd.Series(preds).map(model.config.id2label)\n",
    "scores = (np.exp(predictions[0])/np.exp(predictions[0]).sum(-1,keepdims=True)).max(1)"
   ]
  },
  {
   "cell_type": "code",
   "execution_count": 9,
   "id": "ad092232",
   "metadata": {},
   "outputs": [
    {
     "data": {
      "text/html": [
       "<div>\n",
       "<style scoped>\n",
       "    .dataframe tbody tr th:only-of-type {\n",
       "        vertical-align: middle;\n",
       "    }\n",
       "\n",
       "    .dataframe tbody tr th {\n",
       "        vertical-align: top;\n",
       "    }\n",
       "\n",
       "    .dataframe thead th {\n",
       "        text-align: right;\n",
       "    }\n",
       "</style>\n",
       "<table border=\"1\" class=\"dataframe\">\n",
       "  <thead>\n",
       "    <tr style=\"text-align: right;\">\n",
       "      <th></th>\n",
       "      <th>cleantweet</th>\n",
       "      <th>pred</th>\n",
       "      <th>label</th>\n",
       "      <th>score</th>\n",
       "    </tr>\n",
       "  </thead>\n",
       "  <tbody>\n",
       "    <tr>\n",
       "      <th>0</th>\n",
       "      <td>trump  as a student i used to hear for years ...</td>\n",
       "      <td>0</td>\n",
       "      <td>NEGATIVE</td>\n",
       "      <td>0.998256</td>\n",
       "    </tr>\n",
       "    <tr>\n",
       "      <th>1</th>\n",
       "      <td>hours since last tweet from  trump  maybe he...</td>\n",
       "      <td>0</td>\n",
       "      <td>NEGATIVE</td>\n",
       "      <td>0.998891</td>\n",
       "    </tr>\n",
       "    <tr>\n",
       "      <th>2</th>\n",
       "      <td>you get a tie  and you get a tie   trump  s ra...</td>\n",
       "      <td>0</td>\n",
       "      <td>NEGATIVE</td>\n",
       "      <td>0.992305</td>\n",
       "    </tr>\n",
       "    <tr>\n",
       "      <th>3</th>\n",
       "      <td>clady   her    minutes were over long time ag...</td>\n",
       "      <td>0</td>\n",
       "      <td>NEGATIVE</td>\n",
       "      <td>0.999265</td>\n",
       "    </tr>\n",
       "    <tr>\n",
       "      <th>4</th>\n",
       "      <td>richardmarx glad u got out of the house  dick...</td>\n",
       "      <td>1</td>\n",
       "      <td>POSITIVE</td>\n",
       "      <td>0.998635</td>\n",
       "    </tr>\n",
       "  </tbody>\n",
       "</table>\n",
       "</div>"
      ],
      "text/plain": [
       "                                          cleantweet  pred     label     score\n",
       "0   trump  as a student i used to hear for years ...     0  NEGATIVE  0.998256\n",
       "1    hours since last tweet from  trump  maybe he...     0  NEGATIVE  0.998891\n",
       "2  you get a tie  and you get a tie   trump  s ra...     0  NEGATIVE  0.992305\n",
       "3   clady   her    minutes were over long time ag...     0  NEGATIVE  0.999265\n",
       "4   richardmarx glad u got out of the house  dick...     1  POSITIVE  0.998635"
      ]
     },
     "execution_count": 9,
     "metadata": {},
     "output_type": "execute_result"
    }
   ],
   "source": [
    "# Create DataFrame with texts, predictions, labels, and scores\n",
    "df = pd.DataFrame(list(zip(pred_texts,preds,labels,scores)), columns=['cleantweet','pred','label','score'])\n",
    "df.head()"
   ]
  },
  {
   "cell_type": "code",
   "execution_count": null,
   "id": "8ae79e0a",
   "metadata": {},
   "outputs": [],
   "source": [
    "## need to join this with our data frame once we computed it for all \n",
    "\n",
    "## would like to compare efficientcy& score values of text blob and this, but that would mean we need some manually labled tweets- which I am happy to do for 100 but is that enough? \n"
   ]
  }
 ],
 "metadata": {
  "kernelspec": {
   "display_name": "Python 3 (ipykernel)",
   "language": "python",
   "name": "python3"
  },
  "language_info": {
   "codemirror_mode": {
    "name": "ipython",
    "version": 3
   },
   "file_extension": ".py",
   "mimetype": "text/x-python",
   "name": "python",
   "nbconvert_exporter": "python",
   "pygments_lexer": "ipython3",
   "version": "3.9.7"
  }
 },
 "nbformat": 4,
 "nbformat_minor": 5
}
